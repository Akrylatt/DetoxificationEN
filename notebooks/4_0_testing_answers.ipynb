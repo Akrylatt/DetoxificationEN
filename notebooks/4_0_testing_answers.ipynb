{
  "nbformat": 4,
  "nbformat_minor": 0,
  "metadata": {
    "colab": {
      "provenance": [],
      "gpuType": "T4"
    },
    "kernelspec": {
      "name": "python3",
      "display_name": "Python 3"
    },
    "language_info": {
      "name": "python"
    },
    "accelerator": "GPU"
  },
  "cells": [
    {
      "cell_type": "markdown",
      "source": [
        "#4.0 Testing Answers"
      ],
      "metadata": {
        "id": "3gqh6fC5fPPY"
      }
    },
    {
      "cell_type": "markdown",
      "source": [
        "## Toxicity"
      ],
      "metadata": {
        "id": "TjB67B4Ni6Qq"
      }
    },
    {
      "cell_type": "code",
      "execution_count": null,
      "metadata": {
        "colab": {
          "base_uri": "https://localhost:8080/"
        },
        "id": "ugeazDJ3fLLK",
        "outputId": "2f8b8d99-ae37-4643-ddff-1e45897a57ef"
      },
      "outputs": [
        {
          "output_type": "stream",
          "name": "stdout",
          "text": [
            "Cloning into 'detoxify'...\n",
            "remote: Enumerating objects: 915, done.\u001b[K\n",
            "remote: Counting objects: 100% (128/128), done.\u001b[K\n",
            "remote: Compressing objects: 100% (84/84), done.\u001b[K\n",
            "remote: Total 915 (delta 69), reused 58 (delta 41), pack-reused 787\u001b[K\n",
            "Receiving objects: 100% (915/915), 52.01 MiB | 19.51 MiB/s, done.\n",
            "Resolving deltas: 100% (517/517), done.\n"
          ]
        }
      ],
      "source": [
        "!git clone https://github.com/unitaryai/detoxify"
      ]
    },
    {
      "cell_type": "code",
      "source": [
        "!pip install detoxify"
      ],
      "metadata": {
        "id": "M3yoGmmBjA8f",
        "colab": {
          "base_uri": "https://localhost:8080/"
        },
        "outputId": "604941a6-3e19-469a-9195-d674a46a2f38"
      },
      "execution_count": null,
      "outputs": [
        {
          "output_type": "stream",
          "name": "stdout",
          "text": [
            "Collecting detoxify\n",
            "  Downloading detoxify-0.5.1-py3-none-any.whl (12 kB)\n",
            "Collecting transformers==4.22.1 (from detoxify)\n",
            "  Downloading transformers-4.22.1-py3-none-any.whl (4.9 MB)\n",
            "\u001b[2K     \u001b[90m━━━━━━━━━━━━━━━━━━━━━━━━━━━━━━━━━━━━━━━━\u001b[0m \u001b[32m4.9/4.9 MB\u001b[0m \u001b[31m11.1 MB/s\u001b[0m eta \u001b[36m0:00:00\u001b[0m\n",
            "\u001b[?25hRequirement already satisfied: torch>=1.7.0 in /usr/local/lib/python3.10/dist-packages (from detoxify) (2.1.0+cu118)\n",
            "Collecting sentencepiece>=0.1.94 (from detoxify)\n",
            "  Downloading sentencepiece-0.1.99-cp310-cp310-manylinux_2_17_x86_64.manylinux2014_x86_64.whl (1.3 MB)\n",
            "\u001b[2K     \u001b[90m━━━━━━━━━━━━━━━━━━━━━━━━━━━━━━━━━━━━━━━━\u001b[0m \u001b[32m1.3/1.3 MB\u001b[0m \u001b[31m17.8 MB/s\u001b[0m eta \u001b[36m0:00:00\u001b[0m\n",
            "\u001b[?25hRequirement already satisfied: filelock in /usr/local/lib/python3.10/dist-packages (from transformers==4.22.1->detoxify) (3.12.4)\n",
            "Collecting huggingface-hub<1.0,>=0.9.0 (from transformers==4.22.1->detoxify)\n",
            "  Downloading huggingface_hub-0.18.0-py3-none-any.whl (301 kB)\n",
            "\u001b[2K     \u001b[90m━━━━━━━━━━━━━━━━━━━━━━━━━━━━━━━━━━━━━━━━\u001b[0m \u001b[32m302.0/302.0 kB\u001b[0m \u001b[31m17.0 MB/s\u001b[0m eta \u001b[36m0:00:00\u001b[0m\n",
            "\u001b[?25hRequirement already satisfied: numpy>=1.17 in /usr/local/lib/python3.10/dist-packages (from transformers==4.22.1->detoxify) (1.23.5)\n",
            "Requirement already satisfied: packaging>=20.0 in /usr/local/lib/python3.10/dist-packages (from transformers==4.22.1->detoxify) (23.2)\n",
            "Requirement already satisfied: pyyaml>=5.1 in /usr/local/lib/python3.10/dist-packages (from transformers==4.22.1->detoxify) (6.0.1)\n",
            "Requirement already satisfied: regex!=2019.12.17 in /usr/local/lib/python3.10/dist-packages (from transformers==4.22.1->detoxify) (2023.6.3)\n",
            "Requirement already satisfied: requests in /usr/local/lib/python3.10/dist-packages (from transformers==4.22.1->detoxify) (2.31.0)\n",
            "Collecting tokenizers!=0.11.3,<0.13,>=0.11.1 (from transformers==4.22.1->detoxify)\n",
            "  Downloading tokenizers-0.12.1-cp310-cp310-manylinux_2_12_x86_64.manylinux2010_x86_64.whl (6.6 MB)\n",
            "\u001b[2K     \u001b[90m━━━━━━━━━━━━━━━━━━━━━━━━━━━━━━━━━━━━━━━━\u001b[0m \u001b[32m6.6/6.6 MB\u001b[0m \u001b[31m29.9 MB/s\u001b[0m eta \u001b[36m0:00:00\u001b[0m\n",
            "\u001b[?25hRequirement already satisfied: tqdm>=4.27 in /usr/local/lib/python3.10/dist-packages (from transformers==4.22.1->detoxify) (4.66.1)\n",
            "Requirement already satisfied: typing-extensions in /usr/local/lib/python3.10/dist-packages (from torch>=1.7.0->detoxify) (4.5.0)\n",
            "Requirement already satisfied: sympy in /usr/local/lib/python3.10/dist-packages (from torch>=1.7.0->detoxify) (1.12)\n",
            "Requirement already satisfied: networkx in /usr/local/lib/python3.10/dist-packages (from torch>=1.7.0->detoxify) (3.2)\n",
            "Requirement already satisfied: jinja2 in /usr/local/lib/python3.10/dist-packages (from torch>=1.7.0->detoxify) (3.1.2)\n",
            "Requirement already satisfied: fsspec in /usr/local/lib/python3.10/dist-packages (from torch>=1.7.0->detoxify) (2023.6.0)\n",
            "Requirement already satisfied: triton==2.1.0 in /usr/local/lib/python3.10/dist-packages (from torch>=1.7.0->detoxify) (2.1.0)\n",
            "Requirement already satisfied: MarkupSafe>=2.0 in /usr/local/lib/python3.10/dist-packages (from jinja2->torch>=1.7.0->detoxify) (2.1.3)\n",
            "Requirement already satisfied: charset-normalizer<4,>=2 in /usr/local/lib/python3.10/dist-packages (from requests->transformers==4.22.1->detoxify) (3.3.0)\n",
            "Requirement already satisfied: idna<4,>=2.5 in /usr/local/lib/python3.10/dist-packages (from requests->transformers==4.22.1->detoxify) (3.4)\n",
            "Requirement already satisfied: urllib3<3,>=1.21.1 in /usr/local/lib/python3.10/dist-packages (from requests->transformers==4.22.1->detoxify) (2.0.7)\n",
            "Requirement already satisfied: certifi>=2017.4.17 in /usr/local/lib/python3.10/dist-packages (from requests->transformers==4.22.1->detoxify) (2023.7.22)\n",
            "Requirement already satisfied: mpmath>=0.19 in /usr/local/lib/python3.10/dist-packages (from sympy->torch>=1.7.0->detoxify) (1.3.0)\n",
            "Installing collected packages: tokenizers, sentencepiece, huggingface-hub, transformers, detoxify\n",
            "Successfully installed detoxify-0.5.1 huggingface-hub-0.18.0 sentencepiece-0.1.99 tokenizers-0.12.1 transformers-4.22.1\n"
          ]
        }
      ]
    },
    {
      "cell_type": "code",
      "source": [
        "!gdown 1LPBDo0rDRl4wkiFvN0wVbhys7BdHW1SR"
      ],
      "metadata": {
        "colab": {
          "base_uri": "https://localhost:8080/"
        },
        "id": "ElcP9J8KWu2F",
        "outputId": "ee6f771c-2b88-48dc-ed50-87e3b3216d28"
      },
      "execution_count": null,
      "outputs": [
        {
          "output_type": "stream",
          "name": "stdout",
          "text": [
            "Downloading...\n",
            "From: https://drive.google.com/uc?id=1LPBDo0rDRl4wkiFvN0wVbhys7BdHW1SR\n",
            "To: /content/test.csv\n",
            "\r  0% 0.00/1.95M [00:00<?, ?B/s]\r100% 1.95M/1.95M [00:00<00:00, 48.2MB/s]\n"
          ]
        }
      ]
    },
    {
      "cell_type": "code",
      "source": [
        "!gdown 1npbdjaykBT1naJjWFVTvp9te0Eh8mZRd"
      ],
      "metadata": {
        "colab": {
          "base_uri": "https://localhost:8080/"
        },
        "id": "ZiTrg5ARCYyE",
        "outputId": "1ece1766-9320-4f36-9e04-b91e342d6d1d"
      },
      "execution_count": null,
      "outputs": [
        {
          "output_type": "stream",
          "name": "stdout",
          "text": [
            "Downloading...\n",
            "From: https://drive.google.com/uc?id=1npbdjaykBT1naJjWFVTvp9te0Eh8mZRd\n",
            "To: /content/test_answers.txt\n",
            "\r  0% 0.00/3.82k [00:00<?, ?B/s]\r100% 3.82k/3.82k [00:00<00:00, 17.9MB/s]\n"
          ]
        }
      ]
    },
    {
      "cell_type": "code",
      "source": [
        "from detoxify import Detoxify\n",
        "\n",
        "# each model takes in either a string or a list of strings\n",
        "\n",
        "results = Detoxify('original').predict('You have to kill her.')\n"
      ],
      "metadata": {
        "id": "unV6py5dieLI"
      },
      "execution_count": null,
      "outputs": []
    },
    {
      "cell_type": "code",
      "source": [
        "results"
      ],
      "metadata": {
        "colab": {
          "base_uri": "https://localhost:8080/"
        },
        "id": "vHwKiBOgD444",
        "outputId": "737a2876-3899-4aab-f6b8-22031b0911f0"
      },
      "execution_count": null,
      "outputs": [
        {
          "output_type": "execute_result",
          "data": {
            "text/plain": [
              "{'toxicity': 0.88135254,\n",
              " 'severe_toxicity': 0.049955036,\n",
              " 'obscene': 0.053396158,\n",
              " 'threat': 0.74305737,\n",
              " 'insult': 0.07164226,\n",
              " 'identity_attack': 0.025928572}"
            ]
          },
          "metadata": {},
          "execution_count": 16
        }
      ]
    },
    {
      "cell_type": "code",
      "source": [
        "import numpy as np\n",
        "from tqdm import tqdm\n",
        "\n",
        "def test(generated_text):\n",
        "    toxicity = list()\n",
        "    for t in tqdm(generated_text):\n",
        "        toxicity.append(Detoxify('original').predict(t)[\"toxicity\"])\n",
        "\n",
        "    return np.array(toxicity, dtype='float32')"
      ],
      "metadata": {
        "id": "Sv3KY_lWiUUZ"
      },
      "execution_count": null,
      "outputs": []
    },
    {
      "cell_type": "code",
      "source": [
        "test_answers_path = \"/content/test_answers.txt\""
      ],
      "metadata": {
        "id": "iK0TeLcCkS-7"
      },
      "execution_count": null,
      "outputs": []
    },
    {
      "cell_type": "code",
      "source": [
        "with open(test_answers_path) as f:\n",
        "    test_answers = f.read().splitlines()"
      ],
      "metadata": {
        "id": "Slqd1Kw5X-jO"
      },
      "execution_count": null,
      "outputs": []
    },
    {
      "cell_type": "code",
      "source": [
        "toxic_values = test(test_answers)"
      ],
      "metadata": {
        "id": "XpFkKzNWk679"
      },
      "execution_count": null,
      "outputs": []
    },
    {
      "cell_type": "code",
      "source": [
        "from scipy import stats"
      ],
      "metadata": {
        "id": "HSDWKDhclQCi"
      },
      "execution_count": null,
      "outputs": []
    },
    {
      "cell_type": "code",
      "source": [
        "mea = np.mean(toxic_values)\n",
        "med = np.median(toxic_values)\n",
        "mx = np.max(toxic_values)\n",
        "mi = np.min(toxic_values)\n",
        "mod = stats.mode(toxic_values)[0]"
      ],
      "metadata": {
        "id": "UiCfg0apYWaA"
      },
      "execution_count": null,
      "outputs": []
    },
    {
      "cell_type": "code",
      "source": [
        "print(f\"Mean: \\t{mea:.5f}\")\n",
        "print(f\"Median: {med:.5f}\")\n",
        "print(f\"Mode: \\t{mod:.5f}\")\n",
        "print(f\"Worst:  {mx:.5f}\")\n",
        "print(f\"Best: \\t{mi:.5f}\")"
      ],
      "metadata": {
        "colab": {
          "base_uri": "https://localhost:8080/"
        },
        "id": "21BguqDEfs1i",
        "outputId": "4a75aad2-1cb1-43a6-c2ff-a3a1b79e03a7"
      },
      "execution_count": null,
      "outputs": [
        {
          "output_type": "stream",
          "name": "stdout",
          "text": [
            "Mean: \t0.01655\n",
            "Median: 0.00126\n",
            "Mode: \t0.00060\n",
            "Worst:  0.76984\n",
            "Best: \t0.00060\n"
          ]
        }
      ]
    },
    {
      "cell_type": "code",
      "source": [
        "import seaborn as sns\n",
        "\n",
        "#create histogram with density curve overlaid\n",
        "sns.displot(toxic_values, kde=True, bins=30)"
      ],
      "metadata": {
        "colab": {
          "base_uri": "https://localhost:8080/",
          "height": 524
        },
        "id": "EcL6ZgwIgFny",
        "outputId": "633570f9-6227-4a43-ad91-95a3528f9ba2"
      },
      "execution_count": null,
      "outputs": [
        {
          "output_type": "execute_result",
          "data": {
            "text/plain": [
              "<seaborn.axisgrid.FacetGrid at 0x7806e47e22f0>"
            ]
          },
          "metadata": {},
          "execution_count": 21
        },
        {
          "output_type": "display_data",
          "data": {
            "text/plain": [
              "<Figure size 500x500 with 1 Axes>"
            ],
            "image/png": "[encoded data removed]"
          },
          "metadata": {}
        }
      ]
    },
    {
      "cell_type": "markdown",
      "source": [
        "## Sacrebleu"
      ],
      "metadata": {
        "id": "cRG_Y_IDi0xU"
      }
    },
    {
      "cell_type": "code",
      "source": [
        "!pip install datasets transformers[sentencepiece] sacrebleu\n",
        "!pip install numpy==1.24.3"
      ],
      "metadata": {
        "id": "DT5rOs52hF-0"
      },
      "execution_count": null,
      "outputs": []
    },
    {
      "cell_type": "code",
      "source": [
        "import pandas as pd\n",
        "reference = pd.read_csv('/content/test.csv')"
      ],
      "metadata": {
        "id": "Xb48t0tGCKHz"
      },
      "execution_count": null,
      "outputs": []
    },
    {
      "cell_type": "code",
      "source": [
        "from datasets import load_dataset, load_metric"
      ],
      "metadata": {
        "id": "A2YwIzqwjFG_"
      },
      "execution_count": null,
      "outputs": []
    },
    {
      "cell_type": "code",
      "source": [
        "metric = load_metric(\"sacrebleu\")\n",
        "metric"
      ],
      "metadata": {
        "id": "Izr8rgkhj6O-"
      },
      "execution_count": null,
      "outputs": []
    },
    {
      "cell_type": "code",
      "source": [
        "fake_preds = [\"hello there\", \"general kenobi\", \"Can I get an A\"]\n",
        "fake_labels = [[\"hello there\"], [\"general kenobi\"], ['Can I get a C']]\n",
        "a = metric.compute(predictions=fake_preds, references=fake_labels)"
      ],
      "metadata": {
        "id": "RYmjbjKvkGXZ"
      },
      "execution_count": null,
      "outputs": []
    },
    {
      "cell_type": "code",
      "source": [
        "a"
      ],
      "metadata": {
        "colab": {
          "base_uri": "https://localhost:8080/"
        },
        "id": "TAGGBm-3FKyh",
        "outputId": "73dac695-f8e0-4527-fb19-a7d829c1ce3f"
      },
      "execution_count": null,
      "outputs": [
        {
          "output_type": "execute_result",
          "data": {
            "text/plain": [
              "{'score': 45.59274666224604,\n",
              " 'counts': [7, 4, 1, 0],\n",
              " 'totals': [9, 6, 3, 2],\n",
              " 'precisions': [77.77777777777777,\n",
              "  66.66666666666667,\n",
              "  33.333333333333336,\n",
              "  25.0],\n",
              " 'bp': 1.0,\n",
              " 'sys_len': 9,\n",
              " 'ref_len': 9}"
            ]
          },
          "metadata": {},
          "execution_count": 40
        }
      ]
    },
    {
      "cell_type": "code",
      "source": [
        "reference_list = []\n",
        "for i in range(len(test_answers)):\n",
        "    reference_list.append([reference[\"reference\"][i]])"
      ],
      "metadata": {
        "id": "F8uIjcUjlHW_"
      },
      "execution_count": null,
      "outputs": []
    },
    {
      "cell_type": "code",
      "source": [
        "score = metric.compute(predictions=test_answers, references=reference_list)"
      ],
      "metadata": {
        "id": "ywop4ee5E8vP"
      },
      "execution_count": null,
      "outputs": []
    },
    {
      "cell_type": "code",
      "source": [
        "score"
      ],
      "metadata": {
        "colab": {
          "base_uri": "https://localhost:8080/"
        },
        "id": "ZISI-XfXFCUo",
        "outputId": "fb4d28a9-398c-42fd-ec9d-187df06ab28a"
      },
      "execution_count": null,
      "outputs": [
        {
          "output_type": "execute_result",
          "data": {
            "text/plain": [
              "{'score': 18.810553319365745,\n",
              " 'counts': [461, 209, 112, 58],\n",
              " 'totals': [998, 898, 798, 699],\n",
              " 'precisions': [46.192384769539075,\n",
              "  23.2739420935412,\n",
              "  14.035087719298245,\n",
              "  8.297567954220314],\n",
              " 'bp': 1.0,\n",
              " 'sys_len': 998,\n",
              " 'ref_len': 920}"
            ]
          },
          "metadata": {},
          "execution_count": 52
        }
      ]
    },
    {
      "cell_type": "markdown",
      "source": [
        "## Semantics similarity"
      ],
      "metadata": {
        "id": "W6bCQQkKUsNb"
      }
    },
    {
      "cell_type": "code",
      "source": [
        "!pip install semantic-text-similarity"
      ],
      "metadata": {
        "id": "zo-aNEsbHv-1"
      },
      "execution_count": null,
      "outputs": []
    },
    {
      "cell_type": "code",
      "source": [
        "from semantic_text_similarity.models import WebBertSimilarity\n",
        "from semantic_text_similarity.models import ClinicalBertSimilarity\n",
        "\n",
        "web_model = WebBertSimilarity(device='cpu', batch_size=10) #defaults to GPU prediction\n",
        "\n",
        "clinical_model = ClinicalBertSimilarity(device='cuda', batch_size=10) #defaults to GPU prediction\n",
        "\n",
        "web_model.predict([(\"Think about that shit, dawg.\",\"think about it, man.\")])"
      ],
      "metadata": {
        "colab": {
          "base_uri": "https://localhost:8080/"
        },
        "id": "sKk7rLvOHxTo",
        "outputId": "630391b4-edf7-4f2a-ae5a-3930efa6f976"
      },
      "execution_count": null,
      "outputs": [
        {
          "output_type": "stream",
          "name": "stdout",
          "text": [
            "Downloading model: web-bert-similarity from https://github.com/AndriyMulyar/semantic-text-similarity/releases/download/v1.0.0/web_bert_similarity.tar.gz\n"
          ]
        },
        {
          "output_type": "stream",
          "name": "stderr",
          "text": [
            "100%|██████████| 405359924/405359924 [00:15<00:00, 26313985.81B/s]\n"
          ]
        },
        {
          "output_type": "stream",
          "name": "stdout",
          "text": [
            "Downloading model: clinical-bert-similarity from https://github.com/AndriyMulyar/semantic-text-similarity/releases/download/v1.0.0/clinical_bert_similarity.tar.gz\n"
          ]
        },
        {
          "output_type": "stream",
          "name": "stderr",
          "text": [
            "100%|██████████| 401555686/401555686 [00:05<00:00, 68165550.36B/s]\n"
          ]
        },
        {
          "output_type": "execute_result",
          "data": {
            "text/plain": [
              "array([1.7051139], dtype=float32)"
            ]
          },
          "metadata": {},
          "execution_count": 3
        }
      ]
    },
    {
      "cell_type": "code",
      "source": [
        "scores = []\n",
        "for i in tqdm(range(len(test_answers))):\n",
        "    scores.append(web_model.predict([(test_answers[i], reference[\"reference\"][i])])[0])"
      ],
      "metadata": {
        "colab": {
          "base_uri": "https://localhost:8080/"
        },
        "id": "ltyE3q4XH3eL",
        "outputId": "c1aabd04-d589-4bdb-b30e-55140b048641"
      },
      "execution_count": null,
      "outputs": [
        {
          "output_type": "stream",
          "name": "stderr",
          "text": [
            "100%|██████████| 100/100 [00:14<00:00,  6.79it/s]\n"
          ]
        }
      ]
    },
    {
      "cell_type": "code",
      "source": [
        "mea = np.mean(scores)\n",
        "med = np.median(scores)\n",
        "mx = np.max(scores)\n",
        "mi = np.min(scores)\n",
        "mod = stats.mode(scores)[0]\n",
        "\n",
        "print(f\"Mean: \\t{mea:.5f}\")\n",
        "print(f\"Median: {med:.5f}\")\n",
        "print(f\"Mode: \\t{mod:.5f}\")\n",
        "print(f\"Best:  {mx:.5f}\")\n",
        "print(f\"Worst: \\t{mi:.5f}\")"
      ],
      "metadata": {
        "colab": {
          "base_uri": "https://localhost:8080/"
        },
        "id": "3PrvHEBxIXoN",
        "outputId": "8b71c705-0ab4-43ff-9142-b912eb428ed4"
      },
      "execution_count": null,
      "outputs": [
        {
          "output_type": "stream",
          "name": "stdout",
          "text": [
            "Mean: \t2.67735\n",
            "Median: 2.75023\n",
            "Mode: \t0.83485\n",
            "Best:  4.52251\n",
            "Worst: \t0.83485\n"
          ]
        }
      ]
    },
    {
      "cell_type": "code",
      "source": [
        "import seaborn as sns\n",
        "sns.displot(scores, kde=True, bins=50)"
      ],
      "metadata": {
        "colab": {
          "base_uri": "https://localhost:8080/",
          "height": 523
        },
        "id": "l1nfaANWMFYN",
        "outputId": "7e129736-1bf4-4a1e-e0b8-1077d651a082"
      },
      "execution_count": null,
      "outputs": [
        {
          "output_type": "execute_result",
          "data": {
            "text/plain": [
              "<seaborn.axisgrid.FacetGrid at 0x7d79de39c910>"
            ]
          },
          "metadata": {},
          "execution_count": 21
        },
        {
          "output_type": "display_data",
          "data": {
            "text/plain": [
              "<Figure size 500x500 with 1 Axes>"
            ],
            "image/png": "[encoded data removed]"
          },
          "metadata": {}
        }
      ]
    },
    {
      "cell_type": "code",
      "source": [
        "scores"
      ],
      "metadata": {
        "id": "6z57pYlOVrZY"
      },
      "execution_count": null,
      "outputs": []
    },
    {
      "cell_type": "code",
      "source": [
        "indexes_best = [i for i, num in enumerate(scores) if num > 4]\n",
        "print(indexes_best)"
      ],
      "metadata": {
        "colab": {
          "base_uri": "https://localhost:8080/"
        },
        "id": "p_HIqW-bktBz",
        "outputId": "c33fecda-9ddf-4dbe-cc33-70078c7882ac"
      },
      "execution_count": null,
      "outputs": [
        {
          "output_type": "stream",
          "name": "stdout",
          "text": [
            "[14, 23, 33, 36, 38, 55, 61, 62, 67, 80, 86, 89]\n"
          ]
        }
      ]
    },
    {
      "cell_type": "code",
      "source": [
        "for i in indexes_best:\n",
        "    print(f\"Original: \\t{reference['reference'][i]}\")\n",
        "    print(f\"Translated: \\t{test_answers[i]}\")\n",
        "    print(\"-------------------------------------------\")"
      ],
      "metadata": {
        "colab": {
          "base_uri": "https://localhost:8080/"
        },
        "id": "Wocg59zXplVZ",
        "outputId": "ff4209de-f7b2-42c5-d90f-c7128c0625d6"
      },
      "execution_count": null,
      "outputs": [
        {
          "output_type": "stream",
          "name": "stdout",
          "text": [
            "Original: \tHe thinks he's part of a frickin' platoon now.\n",
            "Translated: \the thinks he's part of a platoon now.\n",
            "-------------------------------------------\n",
            "Original: \tCan I please have a bit of peace and bastard quiet!\n",
            "Translated: \tI want to have a bit of peace and quiet!\n",
            "-------------------------------------------\n",
            "Original: \tHe did not call you the freakin' Golden Boy of BMS.\n",
            "Translated: \the didn't call you the Golden Boy of BMS.\n",
            "-------------------------------------------\n",
            "Original: \t40 kliks, no fucking water.\n",
            "Translated: \t40 kliks, no water.\n",
            "-------------------------------------------\n",
            "Original: \tIt's not wine. It's vinegar you fool\n",
            "Translated: \tit's not wine, it's vinegar\n",
            "-------------------------------------------\n",
            "Original: \tDamn it, where's Conklin?\n",
            "Translated: \twhere's Conklin?\n",
            "-------------------------------------------\n",
            "Original: \tJust drop the fuckin' tools.\n",
            "Translated: \tjust drop the tools.\n",
            "-------------------------------------------\n",
            "Original: \tNow, don't drop the fucking thing, alright?\n",
            "Translated: \tnow, don't drop it, okay?\n",
            "-------------------------------------------\n",
            "Original: \tDamn, but that surprised me.\n",
            "Translated: \tbut that surprised me.\n",
            "-------------------------------------------\n",
            "Original: \tDamn it, Lowry! That convoy of personnel carriers is still not accounted for!\n",
            "Translated: \tlowry, this diversionary force of personnel carriers is still not accounted for!\n",
            "-------------------------------------------\n",
            "Original: \tShit is going down out at Honey Island.\n",
            "Translated: \tthis is going down at Honey Island.\n",
            "-------------------------------------------\n",
            "Original: \tGet this shit straight, coach.\n",
            "Translated: \tget this straight, coach!\n",
            "-------------------------------------------\n"
          ]
        }
      ]
    },
    {
      "cell_type": "code",
      "source": [
        "indexes_worst = [i for i, num in enumerate(scores) if num < 1.5]\n",
        "print(indexes_worst)"
      ],
      "metadata": {
        "colab": {
          "base_uri": "https://localhost:8080/"
        },
        "id": "H0nCpxLvrDRj",
        "outputId": "82ff59f7-da77-4664-fb48-cd2985927869"
      },
      "execution_count": null,
      "outputs": [
        {
          "output_type": "stream",
          "name": "stdout",
          "text": [
            "[2, 7, 13, 22, 30, 32, 43, 44, 57, 58, 63, 64, 65, 73, 76, 85, 88]\n"
          ]
        }
      ]
    },
    {
      "cell_type": "code",
      "source": [
        "for i in indexes_worst:\n",
        "    print(f\"Original: \\t{reference['reference'][i]}\")\n",
        "    print(f\"Translated: \\t{test_answers[i]}\")\n",
        "    print(\"-------------------------------------------\")"
      ],
      "metadata": {
        "colab": {
          "base_uri": "https://localhost:8080/"
        },
        "id": "TCvRanGVt6DP",
        "outputId": "485db1b1-f10b-4740-f733-a1ef0f20444a"
      },
      "execution_count": null,
      "outputs": [
        {
          "output_type": "stream",
          "name": "stdout",
          "text": [
            "Original: \t“Not that it’s any of your damn business, but my wife left me twenty-nine years ago, and my thirty-eight-year-old son, now a successful attorney on Wall Street, uses her name and when questioned by curious people tells them he never knew me.\n",
            "Translated: \t'\n",
            "-------------------------------------------\n",
            "Original: \tYou think you're special, little witch?\n",
            "Translated: \tyou think you're a secret place, huh?\n",
            "-------------------------------------------\n",
            "Original: \tLike fuck! thought Darcy.\n",
            "Translated: \tlike it.\n",
            "-------------------------------------------\n",
            "Original: \tHe's as imprudent as his father was at his age.\n",
            "Translated: \the's quite an adversary, just like his father.\n",
            "-------------------------------------------\n",
            "Original: \tDestroyer!\n",
            "Translated: \texplosion!\n",
            "-------------------------------------------\n",
            "Original: \t\"What the hell goes on?\"\n",
            "Translated: \twhat's going on here?\n",
            "-------------------------------------------\n",
            "Original: \tYou know how to play your role damn well.\n",
            "Translated: \tyou know how to play your music.\n",
            "-------------------------------------------\n",
            "Original: \tThe diagnosis is much simpler, he's a jerk.\n",
            "Translated: \tthe diagnosis is a miracle.\n",
            "-------------------------------------------\n",
            "Original: \tBloody hell.\n",
            "Translated: \toh, my God.\n",
            "-------------------------------------------\n",
            "Original: \tYou're saying Jack Gilmore wasn't innocent? I'm saying Jack Gilmore used his whore of a wife to steal $2 million in drug money from Donny Price.\n",
            "Translated: \tdo you see a contradiction between your statement and\n",
            "-------------------------------------------\n",
            "Original: \tOh, for fuck's sake, it's Jesus.\n",
            "Translated: \toh, my God, yes.\n",
            "-------------------------------------------\n",
            "Original: \tIt's my shit!\n",
            "Translated: \tthis is my work.\n",
            "-------------------------------------------\n",
            "Original: \tHe was one of the worst.\n",
            "Translated: \the was pretty rough.\n",
            "-------------------------------------------\n",
            "Original: \tAnd what faeces you here?\n",
            "Translated: \tand who made you here?\n",
            "-------------------------------------------\n",
            "Original: \tDammit!\n",
            "Translated: \toh God!\n",
            "-------------------------------------------\n",
            "Original: \tYou never do shit.\n",
            "Translated: \tyou can do it.\n",
            "-------------------------------------------\n",
            "Original: \tShut up, then.\n",
            "Translated: \tthen...\n",
            "-------------------------------------------\n"
          ]
        }
      ]
    },
    {
      "cell_type": "code",
      "source": [],
      "metadata": {
        "id": "_eDexcd_uAYe"
      },
      "execution_count": null,
      "outputs": []
    }
  ]
}